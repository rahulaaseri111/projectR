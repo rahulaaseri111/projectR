{
 "cells": [
  {
   "cell_type": "code",
   "execution_count": 2,
   "id": "a938cd90",
   "metadata": {},
   "outputs": [
    {
     "name": "stdout",
     "output_type": "stream",
     "text": [
      "Number of records missing in data2: 507\n"
     ]
    }
   ],
   "source": [
    "# 1.\tHow to identify the Records (Order ID + Product ID combination) present in data1 but missing in data2 \n",
    "# (Specify the number of records missing in your answer)\n",
    "\n",
    "import pandas as pd\n",
    "\n",
    "# Load data1 and data2 into pandas dataframes\n",
    "data1 = pd.read_csv('data1.csv')\n",
    "data2 = pd.read_csv('data2.csv')\n",
    "\n",
    "# Perform a left anti-join operation to get records present in data1 but missing in data2\n",
    "missing_records = data1.merge(data2, on=['Order ID', 'Product ID'], how='left', indicator=True)\\\n",
    "                       .query(\"_merge == 'left_only'\")\\\n",
    "                       .drop('_merge', axis=1)\n",
    "\n",
    "# Count the number of missing records\n",
    "num_missing_records = len(missing_records)\n",
    "\n",
    "# Print the result\n",
    "print(f\"Number of records missing in data2: {num_missing_records}\")\n"
   ]
  },
  {
   "cell_type": "code",
   "execution_count": 3,
   "id": "285821f4",
   "metadata": {},
   "outputs": [
    {
     "name": "stdout",
     "output_type": "stream",
     "text": [
      "Number of records missing in data1: 508\n"
     ]
    }
   ],
   "source": [
    "import pandas as pd\n",
    "\n",
    "# Load data1 and data2 into pandas dataframes\n",
    "data1 = pd.read_csv('data1.csv')\n",
    "data2 = pd.read_csv('data2.csv')\n",
    "\n",
    "# Perform a right anti-join operation to get records missing in data1 but present in data2\n",
    "missing_records = data1.merge(data2, on=['Order ID', 'Product ID'], how='right', indicator=True)\\\n",
    "                       .query(\"_merge == 'right_only'\")\\\n",
    "                       .drop('_merge', axis=1)\n",
    "\n",
    "# Count the number of missing records\n",
    "num_missing_records = len(missing_records)\n",
    "\n",
    "# Print the result\n",
    "print(f\"Number of records missing in data1: {num_missing_records}\")\n"
   ]
  },
  {
   "cell_type": "code",
   "execution_count": 13,
   "id": "b1aa2edb",
   "metadata": {},
   "outputs": [
    {
     "name": "stdout",
     "output_type": "stream",
     "text": [
      "Sum of total qty of records missing in data1: 1956\n"
     ]
    }
   ],
   "source": [
    "import pandas as pd\n",
    "\n",
    "# Load data1 and data2 into pandas dataframes\n",
    "data1 = pd.read_csv('data1.csv')\n",
    "data2 = pd.read_csv('data2.csv')\n",
    "\n",
    "# Perform a right anti-join operation to get records missing in data1 but present in data2\n",
    "missing_records = data1.merge(data2, on=['Order ID', 'Product ID'], how='right', indicator=True)\\\n",
    "                       .query(\"_merge == 'right_only'\")\\\n",
    "                       .drop('_merge', axis=1)\n",
    "\n",
    "# Calculate the sum of the Qty column of the missing records dataframe\n",
    "sum_missing_qty = missing_records['Qty_y'].sum()\n",
    "\n",
    "# Print the result\n",
    "print(f\"Sum of total qty of records missing in data1: {sum_missing_qty}\")\n"
   ]
  },
  {
   "cell_type": "code",
   "execution_count": 12,
   "id": "d384fa36",
   "metadata": {},
   "outputs": [
    {
     "name": "stdout",
     "output_type": "stream",
     "text": [
      "Index(['Order ID', 'Product ID', 'Qty_x', 'Qty_y'], dtype='object')\n"
     ]
    }
   ],
   "source": [
    "print(missing_records.columns)"
   ]
  },
  {
   "cell_type": "code",
   "execution_count": 11,
   "id": "70fdfe8f",
   "metadata": {},
   "outputs": [
    {
     "name": "stdout",
     "output_type": "stream",
     "text": [
      "Total number of unique records in the combined dataset: 6871\n"
     ]
    }
   ],
   "source": [
    "import pandas as pd\n",
    "\n",
    "# Load data1 and data2 into pandas dataframes\n",
    "data1 = pd.read_csv('data1.csv')\n",
    "data2 = pd.read_csv('data2.csv')\n",
    "\n",
    "# Concatenate data1 and data2 into a single dataframe\n",
    "combined_data = pd.concat([data1, data2])\n",
    "\n",
    "# Count the number of unique combinations of Order ID and Product ID\n",
    "num_unique_records = combined_data[['Order ID', 'Product ID']].nunique().sum()\n",
    "\n",
    "# Print the result\n",
    "print(f\"Total number of unique records in the combined dataset: {num_unique_records}\")\n"
   ]
  },
  {
   "cell_type": "code",
   "execution_count": null,
   "id": "ad80a750",
   "metadata": {},
   "outputs": [],
   "source": []
  }
 ],
 "metadata": {
  "kernelspec": {
   "display_name": "Python 3 (ipykernel)",
   "language": "python",
   "name": "python3"
  },
  "language_info": {
   "codemirror_mode": {
    "name": "ipython",
    "version": 3
   },
   "file_extension": ".py",
   "mimetype": "text/x-python",
   "name": "python",
   "nbconvert_exporter": "python",
   "pygments_lexer": "ipython3",
   "version": "3.9.13"
  }
 },
 "nbformat": 4,
 "nbformat_minor": 5
}
